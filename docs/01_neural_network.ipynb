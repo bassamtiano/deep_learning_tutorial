{
 "cells": [
  {
   "attachments": {},
   "cell_type": "markdown",
   "metadata": {},
   "source": [
    "# **Neural Network**\n",
    "\n",
    "## Bagaimana Neural Network Bekerja \n",
    "\n",
    "### Neuron\n",
    "\n",
    "Neuron merupakan unit terkecil didalam sebuah artificial neural network. Dia membawa sebuah weight vektor, dimana merupakan angka floating-point. Sebuah input vektor (juga merupakan angka floating-point) diteruska ke neuron. Neuron mengkombinasikan input tersebut dengan weightnya menggunakan sebuah dot product. Dia lalu menjalankan sebuah fungsi aktivasi (activation function pada )\n"
   ]
  },
  {
   "cell_type": "code",
   "execution_count": 1,
   "metadata": {},
   "outputs": [],
   "source": [
    "from random import random\n",
    "\n",
    "def inisialisasi_network(n_inputs, n_hidden, n_outputs):\n",
    "    network = list()\n",
    "    hidden_layer = [\n",
    "        {\"weight\": [random() for i in range(n_inputs + 1)]} for i in range(n_hidden)\n",
    "    ]\n",
    "    output_layer = [\n",
    "        {\"weight\": [random() for i in range(n_hidden + 1)]} for i in range(n_outputs)\n",
    "    ]\n",
    "    network.append(output_layer)\n",
    "    return network"
   ]
  },
  {
   "cell_type": "code",
   "execution_count": null,
   "metadata": {},
   "outputs": [],
   "source": []
  }
 ],
 "metadata": {
  "kernelspec": {
   "display_name": "Python 3",
   "language": "python",
   "name": "python3"
  },
  "language_info": {
   "codemirror_mode": {
    "name": "ipython",
    "version": 3
   },
   "file_extension": ".py",
   "mimetype": "text/x-python",
   "name": "python",
   "nbconvert_exporter": "python",
   "pygments_lexer": "ipython3",
   "version": "3.8.10 (default, Jun  2 2021, 10:49:15) \n[GCC 9.4.0]"
  },
  "orig_nbformat": 4,
  "vscode": {
   "interpreter": {
    "hash": "916dbcbb3f70747c44a77c7bcd40155683ae19c65e1c03b4aa3499c5328201f1"
   }
  }
 },
 "nbformat": 4,
 "nbformat_minor": 2
}
